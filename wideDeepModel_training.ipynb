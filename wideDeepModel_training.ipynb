{
  "nbformat": 4,
  "nbformat_minor": 0,
  "metadata": {
    "colab": {
      "name": "wideDeepModel_training.ipynb",
      "provenance": [],
      "authorship_tag": "ABX9TyOrlA+9Ht/sFKGVH8f9YDqh",
      "include_colab_link": true
    },
    "kernelspec": {
      "name": "python3",
      "display_name": "Python 3"
    }
  },
  "cells": [
    {
      "cell_type": "markdown",
      "metadata": {
        "id": "view-in-github",
        "colab_type": "text"
      },
      "source": [
        "<a href=\"https://colab.research.google.com/github/benonik/wide_deep_model_wine/blob/main/wideDeepModel_training.ipynb\" target=\"_parent\"><img src=\"https://colab.research.google.com/assets/colab-badge.svg\" alt=\"Open In Colab\"/></a>"
      ]
    },
    {
      "cell_type": "code",
      "metadata": {
        "id": "SC9hnyV84Itk"
      },
      "source": [
        "import os\n",
        "import numpy as np\n",
        "import pandas as pd\n",
        "import tensorflow as tf\n",
        "from tensorflow import keras\n",
        "layers = keras.layers"
      ],
      "execution_count": 1,
      "outputs": []
    },
    {
      "cell_type": "code",
      "metadata": {
        "id": "BuN80R8p6L3Q"
      },
      "source": [
        "!wget -q https://storage.googleapis.com/sara-cloud-ml/wine_data.csv\n",
        "data = pd.read_csv(\"wine_data.csv\")"
      ],
      "execution_count": 2,
      "outputs": []
    },
    {
      "cell_type": "code",
      "metadata": {
        "colab": {
          "base_uri": "https://localhost:8080/"
        },
        "id": "fsv1DPJl6NxM",
        "outputId": "9851dbe8-8c00-4689-939e-a32d01690b15"
      },
      "source": [
        "data.info()"
      ],
      "execution_count": 4,
      "outputs": [
        {
          "output_type": "stream",
          "text": [
            "<class 'pandas.core.frame.DataFrame'>\n",
            "RangeIndex: 150929 entries, 0 to 150928\n",
            "Data columns (total 11 columns):\n",
            " #   Column       Non-Null Count   Dtype  \n",
            "---  ------       --------------   -----  \n",
            " 0   Unnamed: 0   150929 non-null  int64  \n",
            " 1   country      150924 non-null  object \n",
            " 2   description  150929 non-null  object \n",
            " 3   designation  105195 non-null  object \n",
            " 4   points       150929 non-null  int64  \n",
            " 5   price        137234 non-null  float64\n",
            " 6   province     150924 non-null  object \n",
            " 7   region_1     125870 non-null  object \n",
            " 8   region_2     60953 non-null   object \n",
            " 9   variety      150929 non-null  object \n",
            " 10  winery       150929 non-null  object \n",
            "dtypes: float64(1), int64(2), object(8)\n",
            "memory usage: 12.7+ MB\n"
          ],
          "name": "stdout"
        }
      ]
    },
    {
      "cell_type": "code",
      "metadata": {
        "id": "dYgDzADJ6TMf"
      },
      "source": [
        "train_size = int(len(data)*0.8)\n",
        "\n",
        "# Train Features\n",
        "description_train = data['description'][:train_size]\n",
        "variety_train = data['variety'][:train_size]\n",
        "\n",
        "# Train Labels\n",
        "labels_train = data['price'][:train_size]\n",
        "\n",
        "# Test Features\n",
        "description_test = data['description'][train_size:]\n",
        "variety_test = data['variety'][train_size:]\n",
        "\n",
        "# Train Labels\n",
        "labels_test = data['price'][train_size:]"
      ],
      "execution_count": 6,
      "outputs": []
    },
    {
      "cell_type": "code",
      "metadata": {
        "id": "Zo0T0d4y72-s"
      },
      "source": [
        ""
      ],
      "execution_count": null,
      "outputs": []
    }
  ]
}